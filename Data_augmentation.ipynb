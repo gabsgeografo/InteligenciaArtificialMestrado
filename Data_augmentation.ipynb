{
  "nbformat": 4,
  "nbformat_minor": 0,
  "metadata": {
    "colab": {
      "provenance": [],
      "include_colab_link": true
    },
    "kernelspec": {
      "name": "python3",
      "display_name": "Python 3"
    },
    "language_info": {
      "name": "python"
    },
    "gpuClass": "standard"
  },
  "cells": [
    {
      "cell_type": "markdown",
      "metadata": {
        "id": "view-in-github",
        "colab_type": "text"
      },
      "source": [
        "<a href=\"https://colab.research.google.com/github/gabsgeografo/InteligenciaArtificialMestrado/blob/main/Data_augmentation.ipynb\" target=\"_parent\"><img src=\"https://colab.research.google.com/assets/colab-badge.svg\" alt=\"Open In Colab\"/></a>"
      ]
    },
    {
      "cell_type": "markdown",
      "source": [
        "# Importação das bibliotecas"
      ],
      "metadata": {
        "id": "UvjY3_g9NKVX"
      }
    },
    {
      "cell_type": "code",
      "source": [
        "import os\n",
        "import numpy as np\n",
        "import cv2\n",
        "from tqdm import tqdm\n",
        "from matplotlib import pyplot as plt\n",
        "import tensorflow\n",
        "import random\n",
        "from glob import glob\n",
        "from imageio import mimread\n",
        "from google.colab.patches import cv2_imshow\n",
        "tensorflow.__version__"
      ],
      "metadata": {
        "colab": {
          "base_uri": "https://localhost:8080/",
          "height": 35
        },
        "id": "2mQzwu09gaSm",
        "outputId": "a5e6a329-d31c-4860-c139-effc0be6cd41"
      },
      "execution_count": null,
      "outputs": [
        {
          "output_type": "execute_result",
          "data": {
            "text/plain": [
              "'2.8.2'"
            ],
            "application/vnd.google.colaboratory.intrinsic+json": {
              "type": "string"
            }
          },
          "metadata": {},
          "execution_count": 1
        }
      ]
    },
    {
      "cell_type": "markdown",
      "source": [
        "Conexão com Google Drive onde estão as imagens"
      ],
      "metadata": {
        "id": "cdPwM7eBd2oy"
      }
    },
    {
      "cell_type": "code",
      "source": [
        "from google.colab import drive\n",
        "drive.mount('/content/gdrive')"
      ],
      "metadata": {
        "colab": {
          "base_uri": "https://localhost:8080/"
        },
        "id": "rsr_TI-tglr4",
        "outputId": "cb4d927c-cc98-4521-c257-ba5e82934d9a"
      },
      "execution_count": null,
      "outputs": [
        {
          "output_type": "stream",
          "name": "stdout",
          "text": [
            "Mounted at /content/gdrive\n"
          ]
        }
      ]
    },
    {
      "cell_type": "markdown",
      "source": [
        "# Carregamento da base de dados"
      ],
      "metadata": {
        "id": "Cg2qg7eGNS20"
      }
    },
    {
      "cell_type": "markdown",
      "source": [
        "Criar a pasta IA no colab para salvara as imagens que estão no google Drive"
      ],
      "metadata": {
        "id": "EXZeWG7veDqj"
      }
    },
    {
      "cell_type": "code",
      "source": [
        "def criar_diretorio(caminho):\n",
        "  if not os.path.exists(caminho):\n",
        "    os.makedirs(caminho)\n",
        "\n",
        "criar_diretorio('IA')    \n",
        "\n",
        "!cp -r /content/gdrive/Othercomputers/Meu\\ laptop/Relatorio/Originais /content/IA/images"
      ],
      "metadata": {
        "id": "JMitBlxuAo5i"
      },
      "execution_count": null,
      "outputs": []
    },
    {
      "cell_type": "markdown",
      "source": [
        "Verificação se os arquivos estão na pasta. Foram disponibilizados 29 imagens, 1 delas possui ruídos (traços amarelos na imagem) e foi removida da base de dados. Portanto temos 28 imagens."
      ],
      "metadata": {
        "id": "nORnTpfYgN9t"
      }
    },
    {
      "cell_type": "code",
      "source": [
        "import os\n",
        "initial_count = 0\n",
        "dir = \"/content/IA/images\"\n",
        "for path in os.listdir(dir):\n",
        "    if os.path.isfile(os.path.join(dir, path)):\n",
        "        initial_count += 1\n",
        "print(initial_count)"
      ],
      "metadata": {
        "colab": {
          "base_uri": "https://localhost:8080/"
        },
        "id": "kbGXphxa-8vf",
        "outputId": "0bfe56a1-b5b2-4e72-e31e-6b0ea4f84620"
      },
      "execution_count": null,
      "outputs": [
        {
          "output_type": "stream",
          "name": "stdout",
          "text": [
            "28\n"
          ]
        }
      ]
    },
    {
      "cell_type": "markdown",
      "source": [
        "Para evitar o overffting, deve-se gerar mais imagens. Com 28 imagens não é possivel gerar um bom modelo de classificação.\n",
        "\n",
        "A primeira tratativa foi remover uma tarja localizada na parte de baixo das imagens.\n",
        "\n",
        "A segunda foi utilizada a técnica de Transposição em cada imagem gerando 56 imagens.\n",
        "\n"
      ],
      "metadata": {
        "id": "cF-zinbnSD__"
      }
    },
    {
      "cell_type": "code",
      "source": [
        "from albumentations.augmentations.crops.transforms import RandomCrop\n",
        "from skimage import color\n",
        "from skimage import io\n",
        "from albumentations import HorizontalFlip, VerticalFlip, ElasticTransform, GridDistortion, OpticalDistortion, CoarseDropout, RandomBrightnessContrast, Transpose\n",
        "\n",
        "def novas_imagens(imagens, dir_salvo, img_altura=512, img_largura=512, augmentation=True, total=True):\n",
        "  for idx, (x) in tqdm(enumerate(imagens), total = len(imagens)):\n",
        "    nome = x.split('/')[-1].split('.')[0]\n",
        "    #print(nome)\n",
        "\n",
        "    x = cv2.imread(x)\n",
        "\n",
        "    if augmentation:\n",
        "      if total:\n",
        "        aug = HorizontalFlip(p = 1.0)\n",
        "        augmentation = aug(image = x)\n",
        "        x1 = augmentation['image']\n",
        "\n",
        "        aug = VerticalFlip(p = 1.0)\n",
        "        augmentation = aug(image = x)\n",
        "        x2 = augmentation['image']\n",
        "\n",
        "        X = [x, x1, x2]\n",
        "      else:\n",
        "        aug = Transpose(always_apply=False, p=1.0)\n",
        "        augmentation = aug(image = x)\n",
        "        x4 = augmentation['image'] \n",
        "        X = [x,x4]\n",
        "    else:\n",
        "      X = [x]\n",
        "\n",
        "    indice = 0\n",
        "\n",
        "    for img in X:\n",
        "      img = cv2.resize(img, (img_largura, img_altura))\n",
        "\n",
        "      if len(X) == 1:\n",
        "        tmp_img_nome = f\"{nome}.png\"\n",
        "      else:\n",
        "        tmp_img_nome = f\"{nome}_{indice}.png\"\n",
        "\n",
        "      path_imagem = os.path.join(dir_salvo, tmp_img_nome)\n",
        "     \n",
        "      cv2.imwrite(path_imagem, img)      \n",
        "\n",
        "      indice += 1"
      ],
      "metadata": {
        "id": "Mp9zm_p_SB2S"
      },
      "execution_count": null,
      "outputs": []
    },
    {
      "cell_type": "code",
      "source": [
        "# for google colab use cv2_imshow instead\n",
        "# change x, y, h ,w to the values you are happy with\n",
        "\n",
        "img_altura = 510\n",
        "img_largura = 512\n",
        "\n",
        "def cortarImagem(arquivo,destino,total = True):\n",
        "  import cv2\n",
        "  from google.colab.patches import cv2_imshow\n",
        "  import imageio\n",
        "\n",
        "  file_path = arquivo\n",
        "\n",
        "  file_path = os.path.splitext(file_path)[0]\n",
        "  file_name = file_path.split('/')[-1]\n",
        "\n",
        "  img = cv2.imread(arquivo)\n",
        "\n",
        "  \n",
        "  alt = 510\n",
        "  lar = 512\n",
        "\n",
        "  imagem = img[0:510, 0:512]\n",
        "  imageio.imwrite(destino + file_name + '_1.png', imagem)\n",
        "\n",
        "  if total:\n",
        "    imagem = img[0:int(alt/2), 0:int(lar/2)]\n",
        "    imageio.imwrite(destino + file_name +'_2.png', imagem)\n",
        "\n",
        "    imagem = img[int(alt/2):alt, 0:int(lar/2)]\n",
        "    imageio.imwrite(destino + file_name + '_3.png', imagem)\n",
        "\n",
        "    imagem = img[0:int(alt/2), int(lar/2):lar]\n",
        "    imageio.imwrite(destino + file_name +  '_4.png', imagem)\n",
        "\n",
        "    imagem = img[int(alt/2):alt, int(lar/2):lar]\n",
        "    imageio.imwrite(destino + file_name +  '_5.png', imagem)\n",
        "\n",
        "    imagem = img[127:382, 127:382]\n",
        "    imageio.imwrite(destino + file_name +  '_6.png', imagem)"
      ],
      "metadata": {
        "id": "DSiNz46jStry"
      },
      "execution_count": null,
      "outputs": []
    },
    {
      "cell_type": "code",
      "source": [
        "#Remover as Tarjas\n",
        "criar_diretorio('IA/SemTarja')\n",
        "\n",
        "from re import X\n",
        "import os\n",
        "\n",
        "pasta = '/content/IA/images'\n",
        "\n",
        "caminhos = [os.path.join(pasta, nome) for nome in os.listdir(pasta)]\n",
        "arquivos = [arq for arq in caminhos if os.path.isfile(arq)]\n",
        "jpgs = [arq for arq in arquivos if arq.lower().endswith(\".tif\")]\n",
        "\n",
        "for x in jpgs:\n",
        "  cortarImagem(x,'/content/IA/SemTarja/',False) "
      ],
      "metadata": {
        "id": "U3TQGzzLTQSb"
      },
      "execution_count": null,
      "outputs": []
    },
    {
      "cell_type": "code",
      "source": [
        "import os\n",
        "initial_count = 0\n",
        "dir = \"/content/IA/SemTarja\"\n",
        "for path in os.listdir(dir):\n",
        "    if os.path.isfile(os.path.join(dir, path)):\n",
        "        initial_count += 1\n",
        "print(initial_count)"
      ],
      "metadata": {
        "colab": {
          "base_uri": "https://localhost:8080/"
        },
        "id": "aC1sNRFpTXS5",
        "outputId": "adbb767d-1a3e-403c-838b-9e4708ed7d0f"
      },
      "execution_count": null,
      "outputs": [
        {
          "output_type": "stream",
          "name": "stdout",
          "text": [
            "28\n"
          ]
        }
      ]
    },
    {
      "cell_type": "code",
      "source": [
        "def carregar_imagens(caminho):\n",
        "  X_train = sorted(glob(os.path.join(caminho, \"SemTarja\", \"*.png\")))\n",
        "  \n",
        "  return (X_train)\n",
        "\n",
        "path_imagen = \"IA\"\n",
        "X_train = carregar_imagens(path_imagen) \n",
        "\n",
        "len(X_train)"
      ],
      "metadata": {
        "colab": {
          "base_uri": "https://localhost:8080/"
        },
        "id": "PWUqex9VThxx",
        "outputId": "8253aaef-b885-46c8-a259-3f833fa83d83"
      },
      "execution_count": null,
      "outputs": [
        {
          "output_type": "execute_result",
          "data": {
            "text/plain": [
              "28"
            ]
          },
          "metadata": {},
          "execution_count": 9
        }
      ]
    },
    {
      "cell_type": "code",
      "source": [
        "criar_diretorio('IA/Transposta')\n",
        "#Transposição\n",
        "novas_imagens(X_train, 'IA/Transposta/', augmentation=True, total=False)\n"
      ],
      "metadata": {
        "colab": {
          "base_uri": "https://localhost:8080/"
        },
        "id": "KRtOH472ToRS",
        "outputId": "453139c0-aeca-401f-e211-4571258cb8e8"
      },
      "execution_count": null,
      "outputs": [
        {
          "output_type": "stream",
          "name": "stderr",
          "text": [
            "100%|██████████| 28/28 [00:01<00:00, 20.54it/s]\n"
          ]
        }
      ]
    },
    {
      "cell_type": "code",
      "source": [
        "import os\n",
        "initial_count = 0\n",
        "dir = \"/content/IA/Transposta\"\n",
        "for path in os.listdir(dir):\n",
        "    if os.path.isfile(os.path.join(dir, path)):\n",
        "        initial_count += 1\n",
        "print(initial_count)"
      ],
      "metadata": {
        "colab": {
          "base_uri": "https://localhost:8080/"
        },
        "id": "yKcvblZSUlcR",
        "outputId": "db8907c7-6a5b-4386-d097-fc51111ae47f"
      },
      "execution_count": null,
      "outputs": [
        {
          "output_type": "stream",
          "name": "stdout",
          "text": [
            "56\n"
          ]
        }
      ]
    },
    {
      "cell_type": "markdown",
      "source": [
        "Neste terceira etapa as imagens transpostas serão cortadas gerando outras 5 imagens.\n",
        "\n",
        "1.   Quanto superior esquerdo\n",
        "2.   Quanto superior direito\n",
        "3.   Quanto inferior esquerdo\n",
        "4.   Quanto inferior direito\n",
        "5.   Um quadrado, com as mesmas dimensões dos cortes anteiores, no centro.\n",
        "\n",
        "Com isso foram geradas: 336 imagens (5 geradas + 1 original = 6) (6 x 56 = 336)"
      ],
      "metadata": {
        "id": "nPvCgt49gnRh"
      }
    },
    {
      "cell_type": "code",
      "source": [
        "#Cortar as imagens sem Tarja gerando as novas imagens\n",
        "criar_diretorio('IA/Geradas')\n",
        "\n",
        "from re import X\n",
        "import os\n",
        "pasta = '/content/IA/Transposta/'\n",
        "\n",
        "caminhos = [os.path.join(pasta, nome) for nome in os.listdir(pasta)]\n",
        "arquivos = [arq for arq in caminhos if os.path.isfile(arq)]\n",
        "jpgs = [arq for arq in arquivos if arq.lower().endswith(\".png\")]\n",
        "\n",
        "for x in jpgs:\n",
        "  cortarImagem(x,'/content/IA/Geradas/',True)  "
      ],
      "metadata": {
        "id": "YUL_rcGNjZDx"
      },
      "execution_count": null,
      "outputs": []
    },
    {
      "cell_type": "markdown",
      "source": [
        "Conferência da quantidade de Imagens"
      ],
      "metadata": {
        "id": "G0Nq8mlTjiMO"
      }
    },
    {
      "cell_type": "code",
      "source": [
        "import os\n",
        "initial_count = 0\n",
        "dir = \"/content/IA/Geradas\"\n",
        "for path in os.listdir(dir):\n",
        "    if os.path.isfile(os.path.join(dir, path)):\n",
        "        initial_count += 1\n",
        "print(initial_count)"
      ],
      "metadata": {
        "colab": {
          "base_uri": "https://localhost:8080/"
        },
        "id": "sGLaDcHqiUXO",
        "outputId": "84ae1e2b-6e41-46a9-9e23-4c486254379d"
      },
      "execution_count": null,
      "outputs": [
        {
          "output_type": "stream",
          "name": "stdout",
          "text": [
            "336\n"
          ]
        }
      ]
    },
    {
      "cell_type": "code",
      "source": [
        "!cp -r /content/IA/SemTarja/ /content/gdrive/Othercomputers/Meu\\ laptop/Relatorio/SemTarja\n",
        "!cp -r /content/IA/Geradas/ /content/gdrive/Othercomputers/Meu\\ laptop/Relatorio/Geradas"
      ],
      "metadata": {
        "id": "K6rjBXvS0L-G"
      },
      "execution_count": null,
      "outputs": []
    },
    {
      "cell_type": "markdown",
      "source": [
        "As demais técnicas de data augmentation foram aplicadas nas imagens geradas (após os cortes).\n",
        "\n",
        "1.   Gerar verticalmente\n",
        "2.   Gerar horizontalmente\n",
        "\n",
        "Com isso foram geradas 1008 imagens (2 geradas + 1 originais = 3) (3 x 336 = 1008) \n",
        "\n"
      ],
      "metadata": {
        "id": "UG5_-QgFkJpW"
      }
    },
    {
      "cell_type": "markdown",
      "source": [
        "Gera um array com as imagens Geradas. Essas imagens serão usadas no processo de data augmentation"
      ],
      "metadata": {
        "id": "d2U9nZ7RoOBN"
      }
    },
    {
      "cell_type": "code",
      "source": [
        "def carregar_imagens(caminho):\n",
        "  X_train = sorted(glob(os.path.join(caminho, \"Geradas\", \"*.png\")))\n",
        "  \n",
        "  return (X_train)\n",
        "\n",
        "path_imagen = \"IA\"\n",
        "X_train = carregar_imagens(path_imagen) \n",
        "\n",
        "len(X_train)"
      ],
      "metadata": {
        "id": "jg2zSnPJsTZ5",
        "colab": {
          "base_uri": "https://localhost:8080/"
        },
        "outputId": "08c9f119-52ca-418b-8f4e-6165e4fd7f75"
      },
      "execution_count": null,
      "outputs": [
        {
          "output_type": "execute_result",
          "data": {
            "text/plain": [
              "336"
            ]
          },
          "metadata": {},
          "execution_count": 14
        }
      ]
    },
    {
      "cell_type": "code",
      "source": [
        "criar_diretorio('IA/Novas')\n",
        "\n",
        "novas_imagens(X_train, 'IA/Novas/', augmentation=True, total=True)"
      ],
      "metadata": {
        "colab": {
          "base_uri": "https://localhost:8080/"
        },
        "id": "oGWbhjAIoeF3",
        "outputId": "b4277027-b7d2-4026-8ad3-080abb2401f5"
      },
      "execution_count": null,
      "outputs": [
        {
          "output_type": "stream",
          "name": "stderr",
          "text": [
            "100%|██████████| 336/336 [00:19<00:00, 17.35it/s]\n"
          ]
        }
      ]
    },
    {
      "cell_type": "code",
      "source": [
        "import os\n",
        "initial_count = 0\n",
        "dir = \"/content/IA/Novas\"\n",
        "for path in os.listdir(dir):\n",
        "    if os.path.isfile(os.path.join(dir, path)):\n",
        "        initial_count += 1\n",
        "print(initial_count)"
      ],
      "metadata": {
        "colab": {
          "base_uri": "https://localhost:8080/"
        },
        "id": "sQJCIy5ro-At",
        "outputId": "df788a7f-b097-4d92-eaa6-e6e14f08e731"
      },
      "execution_count": null,
      "outputs": [
        {
          "output_type": "stream",
          "name": "stdout",
          "text": [
            "1008\n"
          ]
        }
      ]
    },
    {
      "cell_type": "markdown",
      "source": [
        "Imagens geradas e salvas no Google Drive para serem usadas na redes que serão motnadas"
      ],
      "metadata": {
        "id": "sD1jUr0Op0hG"
      }
    },
    {
      "cell_type": "code",
      "source": [
        "!cp -r /content/IA/ /content/gdrive/Othercomputers/Meu\\ laptop/Relatorio/Novas"
      ],
      "metadata": {
        "id": "rIIvPhtYpzxY"
      },
      "execution_count": null,
      "outputs": []
    }
  ]
}